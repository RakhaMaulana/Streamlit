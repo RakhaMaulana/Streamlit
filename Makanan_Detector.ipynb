{
 "cells": [
  {
   "cell_type": "markdown",
   "id": "22d06914",
   "metadata": {
    "papermill": {
     "duration": 0.014349,
     "end_time": "2023-12-13T16:45:04.643910",
     "exception": false,
     "start_time": "2023-12-13T16:45:04.629561",
     "status": "completed"
    },
    "tags": []
   },
   "source": [
    "## Pre-processing Dataset"
   ]
  },
  {
   "cell_type": "code",
   "execution_count": 2,
   "id": "fa6d9afd",
   "metadata": {
    "execution": {
     "iopub.execute_input": "2023-12-13T16:45:04.675733Z",
     "iopub.status.busy": "2023-12-13T16:45:04.674384Z",
     "iopub.status.idle": "2023-12-13T16:45:04.686396Z",
     "shell.execute_reply": "2023-12-13T16:45:04.685251Z"
    },
    "id": "_Yg1BC9Vi12M",
    "papermill": {
     "duration": 0.03059,
     "end_time": "2023-12-13T16:45:04.688778",
     "exception": false,
     "start_time": "2023-12-13T16:45:04.658188",
     "status": "completed"
    },
    "tags": []
   },
   "outputs": [],
   "source": [
    "import os\n",
    "import shutil\n",
    "\n",
    "# Set paths to train, validation, and test sets\n",
    "train_dir = './train'\n",
    "val_dir = './validation'\n",
    "test_dir = './test'\n",
    "tambahan = './dataset_tambahan/photos'\n",
    "import os\n",
    "import shutil\n",
    "\n",
    "# Set path to source dest_dir\n",
    "\n",
    "# Set path to destination dest_dir\n",
    "dest_dir = '/Merged_Dataset'\n",
    "os.makedirs(dest_dir, exist_ok=True)\n",
    "\n",
    "# Get list of subdirectories in destination dest_dir\n",
    "subdirs = os.listdir(dest_dir)\n",
    "import os\n",
    "import shutil\n",
    "\n",
    "def copy_files_to_corresponding_subdirs(src_dir, dest_dir):\n",
    "    # Iterate over subdirectories in source dest_dir\n",
    "    for class_name in os.listdir(src_dir):\n",
    "        # Check if subdest_dir is a dest_dir\n",
    "        dest_folder_class = os.path.join(dest_dir, class_name)\n",
    "        os.makedirs(dest_folder_class, exist_ok=True)\n",
    "        if not os.path.isdir(os.path.join(src_dir, class_name)):\n",
    "            continue\n",
    "\n",
    "        # Iterate over files in subdest_dir\n",
    "        for file_name in os.listdir(os.path.join(src_dir, class_name)):\n",
    "            # Check if file is a dest_dir\n",
    "            if os.path.isdir(os.path.join(src_dir, class_name, file_name)):\n",
    "                continue\n",
    "\n",
    "            # Copy file to corresponding subdest_dir in destination dest_dir\n",
    "            for dest_subdir_name in os.listdir(dest_dir):\n",
    "                dest_subdir_path = os.path.join(dest_dir, dest_subdir_name)\n",
    "                if not os.path.isdir(dest_subdir_path):\n",
    "                    continue\n",
    "                if dest_subdir_name == class_name:\n",
    "                    shutil.copy(os.path.join(src_dir, class_name, file_name), os.path.join(dest_subdir_path, file_name))\n",
    "\n"
   ]
  },
  {
   "cell_type": "markdown",
   "id": "0b241749",
   "metadata": {
    "papermill": {
     "duration": 0.014284,
     "end_time": "2023-12-13T16:45:04.717906",
     "exception": false,
     "start_time": "2023-12-13T16:45:04.703622",
     "status": "completed"
    },
    "tags": []
   },
   "source": [
    "### Merge all Dataset into New Folder"
   ]
  },
  {
   "cell_type": "code",
   "execution_count": 3,
   "id": "06db7966",
   "metadata": {
    "execution": {
     "iopub.execute_input": "2023-12-13T16:45:04.749057Z",
     "iopub.status.busy": "2023-12-13T16:45:04.748684Z",
     "iopub.status.idle": "2023-12-13T16:45:07.961071Z",
     "shell.execute_reply": "2023-12-13T16:45:07.960376Z"
    },
    "id": "w2mHK8CLCHJB",
    "papermill": {
     "duration": 3.230541,
     "end_time": "2023-12-13T16:45:07.963088",
     "exception": false,
     "start_time": "2023-12-13T16:45:04.732547",
     "status": "completed"
    },
    "tags": []
   },
   "outputs": [
    {
     "ename": "KeyboardInterrupt",
     "evalue": "",
     "output_type": "error",
     "traceback": [
      "\u001b[1;31m---------------------------------------------------------------------------\u001b[0m",
      "\u001b[1;31mKeyboardInterrupt\u001b[0m                         Traceback (most recent call last)",
      "Cell \u001b[1;32mIn[3], line 1\u001b[0m\n\u001b[1;32m----> 1\u001b[0m copy_files_to_corresponding_subdirs(train_dir, dest_dir)\n\u001b[0;32m      2\u001b[0m copy_files_to_corresponding_subdirs(val_dir, dest_dir)\n\u001b[0;32m      3\u001b[0m copy_files_to_corresponding_subdirs(test_dir, dest_dir)\n",
      "Cell \u001b[1;32mIn[2], line 44\u001b[0m, in \u001b[0;36mcopy_files_to_corresponding_subdirs\u001b[1;34m(src_dir, dest_dir)\u001b[0m\n\u001b[0;32m     42\u001b[0m     \u001b[38;5;28;01mcontinue\u001b[39;00m\n\u001b[0;32m     43\u001b[0m \u001b[38;5;28;01mif\u001b[39;00m dest_subdir_name \u001b[38;5;241m==\u001b[39m class_name:\n\u001b[1;32m---> 44\u001b[0m     shutil\u001b[38;5;241m.\u001b[39mcopy(os\u001b[38;5;241m.\u001b[39mpath\u001b[38;5;241m.\u001b[39mjoin(src_dir, class_name, file_name), os\u001b[38;5;241m.\u001b[39mpath\u001b[38;5;241m.\u001b[39mjoin(dest_subdir_path, file_name))\n",
      "File \u001b[1;32mC:\\ProgramData\\anaconda3\\Lib\\shutil.py:419\u001b[0m, in \u001b[0;36mcopy\u001b[1;34m(src, dst, follow_symlinks)\u001b[0m\n\u001b[0;32m    417\u001b[0m \u001b[38;5;28;01mif\u001b[39;00m os\u001b[38;5;241m.\u001b[39mpath\u001b[38;5;241m.\u001b[39misdir(dst):\n\u001b[0;32m    418\u001b[0m     dst \u001b[38;5;241m=\u001b[39m os\u001b[38;5;241m.\u001b[39mpath\u001b[38;5;241m.\u001b[39mjoin(dst, os\u001b[38;5;241m.\u001b[39mpath\u001b[38;5;241m.\u001b[39mbasename(src))\n\u001b[1;32m--> 419\u001b[0m copyfile(src, dst, follow_symlinks\u001b[38;5;241m=\u001b[39mfollow_symlinks)\n\u001b[0;32m    420\u001b[0m copymode(src, dst, follow_symlinks\u001b[38;5;241m=\u001b[39mfollow_symlinks)\n\u001b[0;32m    421\u001b[0m \u001b[38;5;28;01mreturn\u001b[39;00m dst\n",
      "File \u001b[1;32mC:\\ProgramData\\anaconda3\\Lib\\shutil.py:258\u001b[0m, in \u001b[0;36mcopyfile\u001b[1;34m(src, dst, follow_symlinks)\u001b[0m\n\u001b[0;32m    256\u001b[0m \u001b[38;5;28;01mwith\u001b[39;00m \u001b[38;5;28mopen\u001b[39m(src, \u001b[38;5;124m'\u001b[39m\u001b[38;5;124mrb\u001b[39m\u001b[38;5;124m'\u001b[39m) \u001b[38;5;28;01mas\u001b[39;00m fsrc:\n\u001b[0;32m    257\u001b[0m     \u001b[38;5;28;01mtry\u001b[39;00m:\n\u001b[1;32m--> 258\u001b[0m         \u001b[38;5;28;01mwith\u001b[39;00m \u001b[38;5;28mopen\u001b[39m(dst, \u001b[38;5;124m'\u001b[39m\u001b[38;5;124mwb\u001b[39m\u001b[38;5;124m'\u001b[39m) \u001b[38;5;28;01mas\u001b[39;00m fdst:\n\u001b[0;32m    259\u001b[0m             \u001b[38;5;66;03m# macOS\u001b[39;00m\n\u001b[0;32m    260\u001b[0m             \u001b[38;5;28;01mif\u001b[39;00m _HAS_FCOPYFILE:\n\u001b[0;32m    261\u001b[0m                 \u001b[38;5;28;01mtry\u001b[39;00m:\n",
      "\u001b[1;31mKeyboardInterrupt\u001b[0m: "
     ]
    }
   ],
   "source": [
    "copy_files_to_corresponding_subdirs(train_dir, dest_dir)\n",
    "copy_files_to_corresponding_subdirs(val_dir, dest_dir)\n",
    "copy_files_to_corresponding_subdirs(test_dir, dest_dir)\n",
    "copy_files_to_corresponding_subdirs(tambahan, dest_dir)"
   ]
  },
  {
   "cell_type": "code",
   "execution_count": null,
   "id": "8d2563bb",
   "metadata": {
    "execution": {
     "iopub.execute_input": "2023-12-13T16:45:08.041813Z",
     "iopub.status.busy": "2023-12-13T16:45:08.041292Z",
     "iopub.status.idle": "2023-12-13T16:45:08.047842Z",
     "shell.execute_reply": "2023-12-13T16:45:08.047277Z"
    },
    "id": "6kjdcCtRltNP",
    "outputId": "3642f524-239f-4cd9-ecfb-ef7227d88c20",
    "papermill": {
     "duration": 0.023905,
     "end_time": "2023-12-13T16:45:08.049652",
     "exception": false,
     "start_time": "2023-12-13T16:45:08.025747",
     "status": "completed"
    },
    "tags": []
   },
   "outputs": [],
   "source": [
    "import os\n",
    "import matplotlib.pyplot as plt\n",
    "def plot_dataset():\n",
    "    # Set path to training data\n",
    "    dest_dir = '/Merged_Dataset'\n",
    "\n",
    "    # Get class names\n",
    "    class_names = os.listdir(dest_dir)\n",
    "\n",
    "    # Count number of images in each class\n",
    "    new_num_images = []\n",
    "    for class_name in class_names:\n",
    "        class_path = os.path.join(dest_dir, class_name)\n",
    "        new_num_images.append(len(os.listdir(class_path)))\n",
    "\n",
    "    # Create bar chart\n",
    "    plt.figure(figsize=(10, 6))\n",
    "    plt.bar(range(len(class_names)), new_num_images)\n",
    "    plt.title('Number of Images in Each Class for Merged Dataset')\n",
    "    plt.xlabel('Class Index')\n",
    "    plt.ylabel('Number of Images')\n",
    "    plt.xticks(range(len(class_names)), class_names, rotation=90)\n",
    "    # Add exact number of images on top of each bar\n",
    "    for i, num_images in enumerate(new_num_images):\n",
    "        plt.text(i, num_images, str(num_images), ha='center', va='bottom')\n",
    "\n",
    "    plt.show()"
   ]
  },
  {
   "cell_type": "code",
   "execution_count": null,
   "id": "2d3b9377",
   "metadata": {
    "execution": {
     "iopub.execute_input": "2023-12-13T16:45:08.080000Z",
     "iopub.status.busy": "2023-12-13T16:45:08.079203Z",
     "iopub.status.idle": "2023-12-13T16:45:08.528262Z",
     "shell.execute_reply": "2023-12-13T16:45:08.527597Z"
    },
    "papermill": {
     "duration": 0.466436,
     "end_time": "2023-12-13T16:45:08.530330",
     "exception": false,
     "start_time": "2023-12-13T16:45:08.063894",
     "status": "completed"
    },
    "tags": []
   },
   "outputs": [],
   "source": [
    "plot_dataset()"
   ]
  },
  {
   "cell_type": "markdown",
   "id": "dd548083",
   "metadata": {
    "papermill": {
     "duration": 0.015243,
     "end_time": "2023-12-13T16:45:08.560990",
     "exception": false,
     "start_time": "2023-12-13T16:45:08.545747",
     "status": "completed"
    },
    "tags": []
   },
   "source": [
    "#### Remove Any File with Inproper Format"
   ]
  },
  {
   "cell_type": "code",
   "execution_count": null,
   "id": "d39cd97f",
   "metadata": {
    "execution": {
     "iopub.execute_input": "2023-12-13T16:45:08.592455Z",
     "iopub.status.busy": "2023-12-13T16:45:08.592121Z",
     "iopub.status.idle": "2023-12-13T16:45:10.737089Z",
     "shell.execute_reply": "2023-12-13T16:45:10.735780Z"
    },
    "papermill": {
     "duration": 2.16359,
     "end_time": "2023-12-13T16:45:10.739500",
     "exception": false,
     "start_time": "2023-12-13T16:45:08.575910",
     "status": "completed"
    },
    "tags": []
   },
   "outputs": [],
   "source": [
    "from PIL import Image\n",
    "import os\n",
    "\n",
    "# Set the dest_dir path\n",
    "dest_dir = './Merged_Dataset'\n",
    "\n",
    "# Iterate through each subfolder\n",
    "for subfolder in os.listdir(dest_dir):\n",
    "    subfolder_path = os.path.join(dest_dir, subfolder)\n",
    "    \n",
    "    # Check if the item is a dest_dir\n",
    "    if os.path.isdir(subfolder_path):\n",
    "        # Get the list of WebP image files in the subfolder\n",
    "        webp_files = [file for file in os.listdir(subfolder_path) if  file.endswith('.webp') or file.endswith('.gif') or file.endswith('.jpe')]\n",
    "        \n",
    "        # Convert each WebP image in the subfolder to JPEG format\n",
    "        for webp_file in webp_files:\n",
    "            if webp_file.endswith('.webp') or webp_file.endswith('.gif'):\n",
    "                webp_path = os.path.join(subfolder_path, webp_file)\n",
    "                jpg_file = f\"{webp_file.split('.')[0]}.jpg\"\n",
    "                jpg_path = os.path.join(subfolder_path, jpg_file)\n",
    "\n",
    "                # Open the WebP image with Pillow and convert it to JPEG format\n",
    "                with Image.open(webp_path) as im:\n",
    "                    im.convert('RGB').save(jpg_path, 'JPEG')\n",
    "                os.remove(webp_path)\n",
    "            else:\n",
    "                webp_path = os.path.join(subfolder_path, webp_file)\n",
    "                os.remove(webp_path)\n",
    "            # Remove the original WebP file\n",
    "        "
   ]
  },
  {
   "cell_type": "code",
   "execution_count": null,
   "id": "e8228282",
   "metadata": {
    "execution": {
     "iopub.execute_input": "2023-12-13T16:45:10.772272Z",
     "iopub.status.busy": "2023-12-13T16:45:10.771943Z",
     "iopub.status.idle": "2023-12-13T16:45:10.790715Z",
     "shell.execute_reply": "2023-12-13T16:45:10.789232Z"
    },
    "papermill": {
     "duration": 0.038057,
     "end_time": "2023-12-13T16:45:10.793069",
     "exception": false,
     "start_time": "2023-12-13T16:45:10.755012",
     "status": "completed"
    },
    "tags": []
   },
   "outputs": [],
   "source": [
    "for subfolder in os.listdir(dest_dir):\n",
    "    subfolder_path = os.path.join(dest_dir, subfolder)\n",
    "    \n",
    "    # Check if the item is a dest_dir\n",
    "    if os.path.isdir(subfolder_path):\n",
    "        # Get the list of WebP image files in the subfolder\n",
    "        webp_files = [file for file in os.listdir(subfolder_path) if file.endswith('.webp') or file.endswith('.gif') or file.endswith('.jpe')]\n",
    "print(webp_files)"
   ]
  },
  {
   "cell_type": "code",
   "execution_count": null,
   "id": "7cc49c3c",
   "metadata": {
    "execution": {
     "iopub.execute_input": "2023-12-13T16:45:10.827501Z",
     "iopub.status.busy": "2023-12-13T16:45:10.827139Z",
     "iopub.status.idle": "2023-12-13T16:45:17.431017Z",
     "shell.execute_reply": "2023-12-13T16:45:17.429855Z"
    },
    "papermill": {
     "duration": 6.631611,
     "end_time": "2023-12-13T16:45:17.440998",
     "exception": false,
     "start_time": "2023-12-13T16:45:10.809387",
     "status": "completed"
    },
    "tags": []
   },
   "outputs": [],
   "source": [
    "import os\n",
    "import matplotlib.pyplot as plt\n",
    "from PIL import Image\n",
    "dest_dir = './Merged_Dataset'\n",
    "subfolders = [f for f in os.listdir(dest_dir) if os.path.isdir(os.path.join(dest_dir, f))]\n",
    "num_subplots = len(subfolders)\n",
    "num_cols = 3  # Number of columns in the subplot grid\n",
    "num_rows = (num_subplots + num_cols - 1) // num_cols  # Number of rows in the subplot grid\n",
    "fig, axes = plt.subplots(num_rows, num_cols, figsize=(24, 16), constrained_layout=True)\n",
    "for i, folder in enumerate(subfolders):\n",
    "    folder_path = os.path.join(dest_dir, folder)\n",
    "    image_files = [f for f in os.listdir(folder_path) if f.endswith('.jpg') or f.endswith('.png')]\n",
    "    if len(image_files) > 0:\n",
    "        image_path = os.path.join(folder_path, image_files[0])\n",
    "        image = Image.open(image_path)\n",
    "        row_idx = i // num_cols\n",
    "        col_idx = i % num_cols\n",
    "        axes[row_idx, col_idx].imshow(image)\n",
    "        axes[row_idx, col_idx].set_title(folder)\n",
    "        axes[row_idx, col_idx].axis('off')\n",
    "        axes[row_idx, col_idx].set_aspect('equal')\n",
    "\n",
    "if num_subplots < num_rows * num_cols:\n",
    "    for i in range(num_subplots, num_rows * num_cols):\n",
    "        row_idx = i // num_cols\n",
    "        col_idx = i % num_cols\n",
    "        fig.delaxes(axes[row_idx, col_idx])\n",
    "\n",
    "plt.show()\n"
   ]
  },
  {
   "cell_type": "markdown",
   "id": "9d108dd8",
   "metadata": {
    "papermill": {
     "duration": 0.031351,
     "end_time": "2023-12-13T16:45:17.505347",
     "exception": false,
     "start_time": "2023-12-13T16:45:17.473996",
     "status": "completed"
    },
    "tags": []
   },
   "source": [
    "## Check Classes with Under 180 Number of Images "
   ]
  },
  {
   "cell_type": "code",
   "execution_count": null,
   "id": "863c2c8c",
   "metadata": {
    "execution": {
     "iopub.execute_input": "2023-12-13T16:45:17.568971Z",
     "iopub.status.busy": "2023-12-13T16:45:17.568669Z",
     "iopub.status.idle": "2023-12-13T16:45:17.582056Z",
     "shell.execute_reply": "2023-12-13T16:45:17.581176Z"
    },
    "id": "8AjsEbA1mAOO",
    "outputId": "3f8e99ce-751f-4c7b-de5a-8a068de6e3c0",
    "papermill": {
     "duration": 0.047788,
     "end_time": "2023-12-13T16:45:17.584042",
     "exception": false,
     "start_time": "2023-12-13T16:45:17.536254",
     "status": "completed"
    },
    "tags": []
   },
   "outputs": [],
   "source": [
    "dest_dir = './Merged_Dataset'\n",
    "def checkimages(dataset_dir,min_num_images):\n",
    "    # Check number of images in each class\n",
    "    class_names = os.listdir(dataset_dir)\n",
    "    for index,class_name in enumerate(class_names):\n",
    "        class_dir = os.path.join(dataset_dir, class_name)\n",
    "        num_images = len(os.listdir(class_dir))\n",
    "        if num_images < min_num_images:\n",
    "            print(f\"{index} {class_name}: {num_images} images\")\n",
    "            #print(class_name)\n",
    "    print('-'*20)\n",
    "checkimages(dest_dir, 180)"
   ]
  },
  {
   "cell_type": "markdown",
   "id": "3e7a5fd5",
   "metadata": {
    "papermill": {
     "duration": 0.029794,
     "end_time": "2023-12-13T16:45:17.644159",
     "exception": false,
     "start_time": "2023-12-13T16:45:17.614365",
     "status": "completed"
    },
    "tags": []
   },
   "source": [
    "## Remove the Classes with Under 180 Number of Images"
   ]
  },
  {
   "cell_type": "code",
   "execution_count": null,
   "id": "61d37784",
   "metadata": {
    "execution": {
     "iopub.execute_input": "2023-12-13T16:45:17.706122Z",
     "iopub.status.busy": "2023-12-13T16:45:17.705500Z",
     "iopub.status.idle": "2023-12-13T16:45:17.988830Z",
     "shell.execute_reply": "2023-12-13T16:45:17.987170Z"
    },
    "papermill": {
     "duration": 0.317297,
     "end_time": "2023-12-13T16:45:17.991400",
     "exception": false,
     "start_time": "2023-12-13T16:45:17.674103",
     "status": "completed"
    },
    "tags": []
   },
   "outputs": [],
   "source": [
    "import os\n",
    "import random\n",
    "\n",
    "# Set path to dataset\n",
    "dataset_dir = './Merged_Dataset'\n",
    "\n",
    "# Define minimum number of images per class\n",
    "min_num_images = 180\n",
    "\n",
    "# Get class names and remove classes with fewer images than the threshold\n",
    "class_names = os.listdir(dataset_dir)\n",
    "for class_name in class_names:\n",
    "    class_dir = os.path.join(dataset_dir, class_name)\n",
    "    num_images = len(os.listdir(class_dir))\n",
    "    if num_images < min_num_images:\n",
    "        shutil.rmtree(class_dir)\n",
    "        class_names.remove(class_name)\n",
    "\n",
    "# Iterate through each class\n",
    "for class_name in class_names:\n",
    "    class_dir = os.path.join(dataset_dir, class_name)\n",
    "    image_files = os.listdir(class_dir)\n",
    "    \n",
    "    # Check if the number of images is less than the minimum\n",
    "    while len(image_files) > min_num_images:\n",
    "        num_images_to_remove = len(image_files) - min_num_images\n",
    "        random.shuffle(image_files)\n",
    "        images_to_remove = image_files[:num_images_to_remove]\n",
    "        \n",
    "        # Remove the random images\n",
    "        for image_file in images_to_remove:\n",
    "            image_path = os.path.join(class_dir, image_file)\n",
    "            os.remove(image_path)\n",
    "        \n",
    "        # Update the list of image files\n",
    "        image_files = os.listdir(class_dir)"
   ]
  },
  {
   "cell_type": "code",
   "execution_count": null,
   "id": "7a5f2467",
   "metadata": {
    "execution": {
     "iopub.execute_input": "2023-12-13T16:45:18.054476Z",
     "iopub.status.busy": "2023-12-13T16:45:18.054068Z",
     "iopub.status.idle": "2023-12-13T16:45:18.062803Z",
     "shell.execute_reply": "2023-12-13T16:45:18.061413Z"
    },
    "papermill": {
     "duration": 0.043377,
     "end_time": "2023-12-13T16:45:18.065506",
     "exception": false,
     "start_time": "2023-12-13T16:45:18.022129",
     "status": "completed"
    },
    "tags": []
   },
   "outputs": [],
   "source": [
    "checkimages(dest_dir, 180)"
   ]
  },
  {
   "cell_type": "code",
   "execution_count": null,
   "id": "4a162fbd",
   "metadata": {
    "execution": {
     "iopub.execute_input": "2023-12-13T16:45:18.129743Z",
     "iopub.status.busy": "2023-12-13T16:45:18.129382Z",
     "iopub.status.idle": "2023-12-13T16:45:18.621739Z",
     "shell.execute_reply": "2023-12-13T16:45:18.620768Z"
    },
    "papermill": {
     "duration": 0.527265,
     "end_time": "2023-12-13T16:45:18.623733",
     "exception": false,
     "start_time": "2023-12-13T16:45:18.096468",
     "status": "completed"
    },
    "tags": []
   },
   "outputs": [],
   "source": [
    "plot_dataset()"
   ]
  },
  {
   "cell_type": "markdown",
   "id": "f4d1090c",
   "metadata": {
    "papermill": {
     "duration": 0.031785,
     "end_time": "2023-12-13T16:45:18.689690",
     "exception": false,
     "start_time": "2023-12-13T16:45:18.657905",
     "status": "completed"
    },
    "tags": []
   },
   "source": [
    "## Labelling with ImageDataGenerator"
   ]
  },
  {
   "cell_type": "markdown",
   "id": "cfc5b163",
   "metadata": {
    "papermill": {
     "duration": 0.032823,
     "end_time": "2023-12-13T16:45:18.754325",
     "exception": false,
     "start_time": "2023-12-13T16:45:18.721502",
     "status": "completed"
    },
    "tags": []
   },
   "source": [
    "## Check any file that Undetected by flow_from_dest_dir"
   ]
  },
  {
   "cell_type": "code",
   "execution_count": null,
   "id": "befff98b",
   "metadata": {},
   "outputs": [],
   "source": [
    "pip install tensorflow"
   ]
  },
  {
   "cell_type": "code",
   "execution_count": 4,
   "id": "24ffad1b",
   "metadata": {
    "execution": {
     "iopub.execute_input": "2023-12-13T16:45:18.821042Z",
     "iopub.status.busy": "2023-12-13T16:45:18.820426Z",
     "iopub.status.idle": "2023-12-13T16:45:32.515849Z",
     "shell.execute_reply": "2023-12-13T16:45:32.514356Z"
    },
    "papermill": {
     "duration": 13.731427,
     "end_time": "2023-12-13T16:45:32.518133",
     "exception": false,
     "start_time": "2023-12-13T16:45:18.786706",
     "status": "completed"
    },
    "tags": []
   },
   "outputs": [
    {
     "ename": "AttributeError",
     "evalue": "'ImageDataGenerator' object has no attribute 'flow_from_dest_dir'",
     "output_type": "error",
     "traceback": [
      "\u001b[1;31m---------------------------------------------------------------------------\u001b[0m",
      "\u001b[1;31mAttributeError\u001b[0m                            Traceback (most recent call last)",
      "Cell \u001b[1;32mIn[4], line 13\u001b[0m\n\u001b[0;32m     10\u001b[0m datagen \u001b[38;5;241m=\u001b[39m ImageDataGenerator()\n\u001b[0;32m     12\u001b[0m \u001b[38;5;66;03m# Get a list of all filenames in the dataset\u001b[39;00m\n\u001b[1;32m---> 13\u001b[0m filenames \u001b[38;5;241m=\u001b[39m datagen\u001b[38;5;241m.\u001b[39mflow_from_dest_dir(\n\u001b[0;32m     14\u001b[0m     dest_dir,\n\u001b[0;32m     15\u001b[0m     shuffle\u001b[38;5;241m=\u001b[39m\u001b[38;5;28;01mFalse\u001b[39;00m,\n\u001b[0;32m     16\u001b[0m     seed\u001b[38;5;241m=\u001b[39m\u001b[38;5;241m42\u001b[39m,\n\u001b[0;32m     17\u001b[0m     classes\u001b[38;5;241m=\u001b[39m\u001b[38;5;28;01mNone\u001b[39;00m\n\u001b[0;32m     18\u001b[0m )\u001b[38;5;241m.\u001b[39mfilenames\n\u001b[0;32m     19\u001b[0m \u001b[38;5;66;03m# Get a list of all filenames from the dest_dir\u001b[39;00m\n\u001b[0;32m     20\u001b[0m actual_filenames \u001b[38;5;241m=\u001b[39m []\n",
      "\u001b[1;31mAttributeError\u001b[0m: 'ImageDataGenerator' object has no attribute 'flow_from_dest_dir'"
     ]
    }
   ],
   "source": [
    "import os\n",
    "from tensorflow.keras import layers\n",
    "from tensorflow.keras import Model\n",
    "from tensorflow.keras.optimizers import RMSprop\n",
    "from tensorflow.keras.preprocessing.image import ImageDataGenerator\n",
    "# Set the dest_dir path\n",
    "dest_dir = './Merged_Dataset'\n",
    "\n",
    "# Create an ImageDataGenerator object\n",
    "datagen = ImageDataGenerator()\n",
    "\n",
    "# Get a list of all filenames in the dataset\n",
    "filenames = datagen.flow_from_dest_dir(\n",
    "    dest_dir,\n",
    "    shuffle=False,\n",
    "    seed=42,\n",
    "    classes=None\n",
    ").filenames\n",
    "# Get a list of all filenames from the dest_dir\n",
    "actual_filenames = []\n",
    "for root, dirs, files in os.walk(dest_dir):\n",
    "    for file in files:\n",
    "        actual_filenames.append(os.path.join(root, file))\n",
    "\n",
    "# Find the filenames that are not detected by flow_from_dest_dir\n",
    "#print(actual_filenames[0],filenames[0])\n",
    "for i, filename in enumerate(filenames):\n",
    "    filenames[i] = str(os.path.join(dest_dir,filename))\n",
    "undetected_filenames = set(actual_filenames) - set(filenames)\n",
    "\n",
    "# Print the undetected filenames\n",
    "for filename in undetected_filenames:\n",
    "    print(f\"Undetected file: {filename}\")"
   ]
  },
  {
   "cell_type": "code",
   "execution_count": null,
   "id": "0331e8be",
   "metadata": {
    "execution": {
     "iopub.execute_input": "2023-12-13T16:45:32.584142Z",
     "iopub.status.busy": "2023-12-13T16:45:32.583022Z",
     "iopub.status.idle": "2023-12-13T16:45:32.740049Z",
     "shell.execute_reply": "2023-12-13T16:45:32.738742Z"
    },
    "id": "Jf9EwLpHjedA",
    "outputId": "631cce36-e6a6-43a9-e310-fa1db08d27a4",
    "papermill": {
     "duration": 0.19283,
     "end_time": "2023-12-13T16:45:32.742531",
     "exception": false,
     "start_time": "2023-12-13T16:45:32.549701",
     "status": "completed"
    },
    "tags": []
   },
   "outputs": [],
   "source": [
    "\n",
    "\n",
    "DATASET_DIR = './Merged_Dataset'\n",
    "training_datagen = ImageDataGenerator(\n",
    "    rescale = 1./255,\n",
    "    validation_split = 0.3)\n",
    "\n",
    "\n",
    "train_generator = training_datagen.flow_from_dest_dir(\n",
    "    DATASET_DIR,\n",
    "    target_size=(128,128),\n",
    "    class_mode='categorical',\n",
    "    batch_size=64,\n",
    "    subset='training'\n",
    ")\n",
    "\n",
    "val_generator = training_datagen.flow_from_dest_dir(\n",
    "    DATASET_DIR,\n",
    "    target_size=(128,128),\n",
    "    class_mode='categorical',\n",
    "    batch_size=64,\n",
    "    subset='validation'\n",
    ")\n"
   ]
  },
  {
   "cell_type": "markdown",
   "id": "42dadb13",
   "metadata": {
    "papermill": {
     "duration": 0.031295,
     "end_time": "2023-12-13T16:45:32.805583",
     "exception": false,
     "start_time": "2023-12-13T16:45:32.774288",
     "status": "completed"
    },
    "tags": []
   },
   "source": [
    "## Fine Tuning with MobileNetV2"
   ]
  },
  {
   "cell_type": "code",
   "execution_count": null,
   "id": "1b7046fc",
   "metadata": {
    "execution": {
     "iopub.execute_input": "2023-12-13T16:45:32.869807Z",
     "iopub.status.busy": "2023-12-13T16:45:32.869409Z",
     "iopub.status.idle": "2023-12-13T16:45:35.695685Z",
     "shell.execute_reply": "2023-12-13T16:45:35.694460Z"
    },
    "id": "SV2KLLuEQj96",
    "outputId": "fff4e105-7bcb-42a1-955c-7ca639706a17",
    "papermill": {
     "duration": 2.881681,
     "end_time": "2023-12-13T16:45:35.718644",
     "exception": false,
     "start_time": "2023-12-13T16:45:32.836963",
     "status": "completed"
    },
    "tags": []
   },
   "outputs": [],
   "source": [
    "from tensorflow.keras.applications.mobilenet_v2 import MobileNetV2\n",
    "\n",
    "pre_trained_model = MobileNetV2(\n",
    "    include_top=False,\n",
    "    weights=\"imagenet\",\n",
    "    input_shape=(128, 128, 3),\n",
    "    alpha = 1,\n",
    "    pooling='avg',\n",
    ")\n",
    "pre_trained_model.summary()"
   ]
  },
  {
   "cell_type": "code",
   "execution_count": null,
   "id": "fc15d66b",
   "metadata": {
    "execution": {
     "iopub.execute_input": "2023-12-13T16:45:35.839627Z",
     "iopub.status.busy": "2023-12-13T16:45:35.839263Z",
     "iopub.status.idle": "2023-12-13T16:45:35.850142Z",
     "shell.execute_reply": "2023-12-13T16:45:35.849279Z"
    },
    "id": "sq9TSIHSjmN5",
    "outputId": "d8c1ffb3-a331-4a97-93ae-91f4de6eebb1",
    "papermill": {
     "duration": 0.0739,
     "end_time": "2023-12-13T16:45:35.852102",
     "exception": false,
     "start_time": "2023-12-13T16:45:35.778202",
     "status": "completed"
    },
    "tags": []
   },
   "outputs": [],
   "source": [
    "for layer in pre_trained_model.layers[:-4]:\n",
    "    layer.trainable = False\n",
    "\n",
    "last_layer = pre_trained_model.get_layer('global_average_pooling2d')\n",
    "print('last layer output shape: ', last_layer.output_shape)\n",
    "#pre_trained_model.summary()\n"
   ]
  },
  {
   "cell_type": "code",
   "execution_count": null,
   "id": "6b24f39b",
   "metadata": {
    "execution": {
     "iopub.execute_input": "2023-12-13T16:45:35.968899Z",
     "iopub.status.busy": "2023-12-13T16:45:35.968509Z",
     "iopub.status.idle": "2023-12-13T16:45:35.975641Z",
     "shell.execute_reply": "2023-12-13T16:45:35.974597Z"
    },
    "id": "HGFzQgPb2nnL",
    "outputId": "334d1131-3134-460b-d14d-51241984c1e7",
    "papermill": {
     "duration": 0.068397,
     "end_time": "2023-12-13T16:45:35.977660",
     "exception": false,
     "start_time": "2023-12-13T16:45:35.909263",
     "status": "completed"
    },
    "tags": []
   },
   "outputs": [],
   "source": [
    "# Get trainable layers\n",
    "trainable_layers = [layer.name for layer in pre_trained_model.layers if layer.trainable]\n",
    "print(\"Trainable Layers:\")\n",
    "for layer in trainable_layers:\n",
    "    print(layer)"
   ]
  },
  {
   "cell_type": "code",
   "execution_count": null,
   "id": "7c409774",
   "metadata": {
    "execution": {
     "iopub.execute_input": "2023-12-13T16:45:36.096351Z",
     "iopub.status.busy": "2023-12-13T16:45:36.095962Z",
     "iopub.status.idle": "2023-12-13T16:46:06.311284Z",
     "shell.execute_reply": "2023-12-13T16:46:06.310269Z"
    },
    "id": "bykMQgoO3WnP",
    "papermill": {
     "duration": 30.277908,
     "end_time": "2023-12-13T16:46:06.313514",
     "exception": false,
     "start_time": "2023-12-13T16:45:36.035606",
     "status": "completed"
    },
    "tags": []
   },
   "outputs": [],
   "source": [
    "import numpy as np\n",
    "# Initialize empty lists to store x_train and y_train\n",
    "x_train_list = []\n",
    "y_train_list = []\n",
    "\n",
    "x_val_list = []\n",
    "y_val_list = []\n",
    "\n",
    "\n",
    "# Iterate over the generator and collect all the batches of data for training\n",
    "for i in range(len(train_generator)):\n",
    "    x_train_batch, y_train_batch = train_generator[i]\n",
    "    x_train_list.append(x_train_batch)\n",
    "    y_train_list.append(y_train_batch)\n",
    "\n",
    "for i in range(len(val_generator)):\n",
    "    x_val_batch, y_val_batch = val_generator[i]\n",
    "    x_val_list.append(x_val_batch)\n",
    "    y_val_list.append(y_val_batch)\n",
    "\n",
    "\n",
    "# Concatenate the batches to get the complete x_train, y_train, x_val, and y_val arrays\n",
    "x_train = np.concatenate(x_train_list)\n",
    "y_train = np.concatenate(y_train_list)\n",
    "\n",
    "x_val = np.concatenate(x_val_list)\n",
    "y_val = np.concatenate(y_val_list)\n",
    "\n",
    "#split for test set\n",
    "from sklearn.model_selection import train_test_split\n",
    "\n",
    "x_val, x_test, y_val, y_test = train_test_split(x_val, y_val, test_size=0.67, random_state=1)\n"
   ]
  },
  {
   "cell_type": "code",
   "execution_count": null,
   "id": "fde615c3",
   "metadata": {
    "execution": {
     "iopub.execute_input": "2023-12-13T16:46:06.431135Z",
     "iopub.status.busy": "2023-12-13T16:46:06.430591Z",
     "iopub.status.idle": "2023-12-13T16:46:06.435928Z",
     "shell.execute_reply": "2023-12-13T16:46:06.434721Z"
    },
    "id": "w2pIdOD97kEb",
    "outputId": "929dea00-4cf3-43e4-dcb8-3ec9ca120548",
    "papermill": {
     "duration": 0.06688,
     "end_time": "2023-12-13T16:46:06.438497",
     "exception": false,
     "start_time": "2023-12-13T16:46:06.371617",
     "status": "completed"
    },
    "tags": []
   },
   "outputs": [],
   "source": [
    "# Print the shape of x_train and y_train\n",
    "print('x_train shape:', x_train.shape)\n",
    "print('y_train shape:', y_train.shape)\n",
    "print('x_val shape:', x_val.shape)\n",
    "print('y_val shape:', y_val.shape)\n",
    "print('x_test shape:', x_test.shape)\n",
    "print('y_test shape:', y_test.shape)"
   ]
  },
  {
   "cell_type": "markdown",
   "id": "07e17375",
   "metadata": {
    "papermill": {
     "duration": 0.058193,
     "end_time": "2023-12-13T16:46:06.555897",
     "exception": false,
     "start_time": "2023-12-13T16:46:06.497704",
     "status": "completed"
    },
    "tags": []
   },
   "source": [
    "## Hypertuning Parameter with Keras Tuner"
   ]
  },
  {
   "cell_type": "code",
   "execution_count": null,
   "id": "b3ba50e9",
   "metadata": {
    "execution": {
     "iopub.execute_input": "2023-12-13T16:46:06.674642Z",
     "iopub.status.busy": "2023-12-13T16:46:06.674306Z",
     "iopub.status.idle": "2023-12-13T16:46:06.917339Z",
     "shell.execute_reply": "2023-12-13T16:46:06.916382Z"
    },
    "papermill": {
     "duration": 0.305832,
     "end_time": "2023-12-13T16:46:06.919847",
     "exception": false,
     "start_time": "2023-12-13T16:46:06.614015",
     "status": "completed"
    },
    "scrolled": true,
    "tags": []
   },
   "outputs": [],
   "source": [
    "from keras_tuner.tuners import RandomSearch,Hyperband\n",
    "from tensorflow.keras.regularizers import L2\n",
    "import tensorflow as tf\n",
    "num_classes = y_train.shape[1]\n",
    "def build_model(hp):\n",
    "    # Create an ImageDataGenerator for training data\n",
    "    train_datagen = ImageDataGenerator(\n",
    "            rotation_range=20,\n",
    "            width_shift_range=0.2,\n",
    "            height_shift_range=0.2,\n",
    "            shear_range=0.2,\n",
    "            zoom_range=0.2,\n",
    "            horizontal_flip=True,\n",
    "            fill_mode='nearest')\n",
    "\n",
    "    # Create an ImageDataGenerator for validation data\n",
    "    validation_datagen = ImageDataGenerator()\n",
    "\n",
    "    # Generate batches of augmented data for training\n",
    "    train_generator = train_datagen.flow(\n",
    "        x_train,\n",
    "        y = y_train,\n",
    "        batch_size=64,\n",
    "    )\n",
    "\n",
    "    # Generate batches of data for validation\n",
    "    validation_generator = validation_datagen.flow(\n",
    "        x_val,\n",
    "        y = y_val,\n",
    "        batch_size=64\n",
    "    )\n",
    "\n",
    "    # Load the pre-trained model\n",
    "    last_output = last_layer.output\n",
    "    # Add a fully connected layer with hidden units and ReLU activation\n",
    "\n",
    "    x = layers.Dense(units=hp.Int('hidden_units', min_value=512, max_value=1024, step=512),\n",
    "                     activation='relu',\n",
    "                     kernel_regularizer=L2(hp.Float('regularization_strength', min_value=0, max_value=0.5, step=0.1)))(last_output)\n",
    "    x = layers.Dropout(rate=hp.Float('dropout_rate', min_value=0, max_value=0.5, step=0.1))(x)\n",
    "\n",
    "    # Add the final output layer with softmax activation for classification\n",
    "    x = layers.Dense(num_classes, activation='softmax')(x)\n",
    "\n",
    "    model = Model(pre_trained_model.input, x)\n",
    "    model.compile(optimizer=tf.keras.optimizers.Adam(learning_rate=0.0001),\n",
    "                  loss='categorical_crossentropy',\n",
    "                  metrics=['accuracy'])\n",
    "    return model\n"
   ]
  },
  {
   "cell_type": "code",
   "execution_count": null,
   "id": "1618ea93",
   "metadata": {},
   "outputs": [],
   "source": [
    "pip install keras_tuner"
   ]
  },
  {
   "cell_type": "code",
   "execution_count": null,
   "id": "92952001",
   "metadata": {
    "execution": {
     "iopub.execute_input": "2023-12-13T16:46:07.037985Z",
     "iopub.status.busy": "2023-12-13T16:46:07.037674Z",
     "iopub.status.idle": "2023-12-13T16:46:07.104619Z",
     "shell.execute_reply": "2023-12-13T16:46:07.103364Z"
    },
    "papermill": {
     "duration": 0.128799,
     "end_time": "2023-12-13T16:46:07.106908",
     "exception": false,
     "start_time": "2023-12-13T16:46:06.978109",
     "status": "completed"
    },
    "tags": []
   },
   "outputs": [],
   "source": [
    "\n",
    "tuner = Hyperband(\n",
    "                     build_model,\n",
    "                     objective='val_accuracy',\n",
    "                     max_epochs=20,\n",
    "                     factor=3,\n",
    "                     dest_dir='my_dir',\n",
    "                     project_name='Hyperband_real'\n",
    ")"
   ]
  },
  {
   "cell_type": "code",
   "execution_count": null,
   "id": "44185277",
   "metadata": {
    "execution": {
     "iopub.execute_input": "2023-12-13T16:46:07.227450Z",
     "iopub.status.busy": "2023-12-13T16:46:07.227057Z",
     "iopub.status.idle": "2023-12-13T18:03:04.040387Z",
     "shell.execute_reply": "2023-12-13T18:03:04.039336Z"
    },
    "papermill": {
     "duration": 4616.936776,
     "end_time": "2023-12-13T18:03:04.103351",
     "exception": false,
     "start_time": "2023-12-13T16:46:07.166575",
     "status": "completed"
    },
    "tags": []
   },
   "outputs": [],
   "source": [
    "# Start the hyperparameter search\n",
    "from tensorflow.keras.callbacks import EarlyStopping\n",
    "stop_early = EarlyStopping(monitor='val_loss', patience=10)\n",
    "tuner.search(x_train,y_train, epochs=30, validation_data=(x_val,y_val), callbacks=[stop_early])\n",
    "\n",
    "# Retrieve the best hyperparameters and build the final model\n",
    "best_hps = tuner.get_best_hyperparameters(num_trials=1)[0]\n",
    "model = tuner.hypermodel.build(best_hps)\n",
    "#print(best_hps.get('dropout'),best_hps.get('learning_rate'))\n",
    "print(f\"Optimal units: {best_hps.get('hidden_units')}, optimal dropout rate: {best_hps.get('dropout_rate')}, optimal learning rate: {best_hps.get('regularization_strength')}\")\n"
   ]
  },
  {
   "cell_type": "code",
   "execution_count": null,
   "id": "3185864e",
   "metadata": {
    "execution": {
     "iopub.execute_input": "2023-12-13T18:03:04.227456Z",
     "iopub.status.busy": "2023-12-13T18:03:04.227028Z",
     "iopub.status.idle": "2023-12-13T18:03:04.234707Z",
     "shell.execute_reply": "2023-12-13T18:03:04.232918Z"
    },
    "papermill": {
     "duration": 0.073366,
     "end_time": "2023-12-13T18:03:04.237115",
     "exception": false,
     "start_time": "2023-12-13T18:03:04.163749",
     "status": "completed"
    },
    "tags": []
   },
   "outputs": [],
   "source": [
    "hidden_units = best_hps.get('hidden_units')\n",
    "dropout_rate = best_hps.get('dropout_rate')\n",
    "regularization_str = best_hps.get('regularization_strength')"
   ]
  },
  {
   "cell_type": "markdown",
   "id": "41e4fc93",
   "metadata": {
    "id": "cxRB9JIiOKq4",
    "papermill": {
     "duration": 0.060132,
     "end_time": "2023-12-13T18:03:04.358269",
     "exception": false,
     "start_time": "2023-12-13T18:03:04.298137",
     "status": "completed"
    },
    "tags": []
   },
   "source": [
    "## Cross-validation with K-Fold Split"
   ]
  },
  {
   "cell_type": "code",
   "execution_count": null,
   "id": "8c893882",
   "metadata": {
    "execution": {
     "iopub.execute_input": "2023-12-13T18:03:04.482890Z",
     "iopub.status.busy": "2023-12-13T18:03:04.482468Z",
     "iopub.status.idle": "2023-12-13T18:03:04.643220Z",
     "shell.execute_reply": "2023-12-13T18:03:04.641654Z"
    },
    "id": "Fio4ZaIG79qM",
    "outputId": "bb411321-c522-4552-cab1-60d3e33c7750",
    "papermill": {
     "duration": 0.226877,
     "end_time": "2023-12-13T18:03:04.645603",
     "exception": false,
     "start_time": "2023-12-13T18:03:04.418726",
     "status": "completed"
    },
    "tags": []
   },
   "outputs": [],
   "source": [
    "input_data = np.concatenate((x_train, x_val), axis=0)\n",
    "target_data = np.concatenate((y_train, y_val), axis=0)\n",
    "input_data.shape, target_data.shape"
   ]
  },
  {
   "cell_type": "code",
   "execution_count": null,
   "id": "a6cf7c72",
   "metadata": {
    "execution": {
     "iopub.execute_input": "2023-12-13T18:03:04.770780Z",
     "iopub.status.busy": "2023-12-13T18:03:04.770422Z",
     "iopub.status.idle": "2023-12-13T18:03:04.775929Z",
     "shell.execute_reply": "2023-12-13T18:03:04.774837Z"
    },
    "id": "7jHzdcj98-92",
    "papermill": {
     "duration": 0.070357,
     "end_time": "2023-12-13T18:03:04.777858",
     "exception": false,
     "start_time": "2023-12-13T18:03:04.707501",
     "status": "completed"
    },
    "tags": []
   },
   "outputs": [],
   "source": [
    "from sklearn.model_selection import KFold\n",
    "# Perform k-fold cross-validation with a seed\n",
    "kfold = KFold(n_splits=5, shuffle=True, random_state=42)  # Update the number of splits and the random seed as needed"
   ]
  },
  {
   "cell_type": "code",
   "execution_count": null,
   "id": "3ff6275c",
   "metadata": {
    "execution": {
     "iopub.execute_input": "2023-12-13T18:03:04.904881Z",
     "iopub.status.busy": "2023-12-13T18:03:04.904506Z",
     "iopub.status.idle": "2023-12-13T19:18:37.763508Z",
     "shell.execute_reply": "2023-12-13T19:18:37.762468Z"
    },
    "id": "GsQS0VUjNhMc",
    "outputId": "f88b4348-f063-401f-83e3-7f4254ea04d1",
    "papermill": {
     "duration": 4532.925257,
     "end_time": "2023-12-13T19:18:37.765943",
     "exception": false,
     "start_time": "2023-12-13T18:03:04.840686",
     "status": "completed"
    },
    "tags": []
   },
   "outputs": [],
   "source": [
    "import tensorflow as tf\n",
    "from tensorflow.keras.preprocessing.image import ImageDataGenerator\n",
    "\n",
    "fold_no = 0\n",
    "acc_per_fold = []\n",
    "loss_per_fold = []\n",
    "x_train_list =[]\n",
    "y_train_list =[]\n",
    "x_val_list =[]\n",
    "y_val_list = []\n",
    "best_accuracy = 0.0\n",
    "\n",
    "val_acc_per_fold = []  # Add a list to store validation accuracy\n",
    "for train_index, val_index in kfold.split(input_data):\n",
    "    x_train_fold, y_train_fold = input_data[train_index], target_data[train_index]\n",
    "    x_val_fold, y_val_fold = input_data[val_index], target_data[val_index]\n",
    "    # Create an ImageDataGenerator for training data\n",
    "    train_datagen = ImageDataGenerator(\n",
    "            rotation_range=20,\n",
    "            width_shift_range=0.2,\n",
    "            height_shift_range=0.2,\n",
    "            shear_range=0.2,\n",
    "            zoom_range=0.2,\n",
    "            horizontal_flip=True,\n",
    "            fill_mode='nearest')\n",
    "\n",
    "    # Create an ImageDataGenerator for validation data\n",
    "    validation_datagen = ImageDataGenerator()\n",
    "\n",
    "    # Generate batches of augmented data for training\n",
    "    train_generator = train_datagen.flow(\n",
    "        x_train_fold,\n",
    "        y = y_train_fold,\n",
    "        batch_size=64,\n",
    "    )\n",
    "\n",
    "    # Generate batches of data for validation\n",
    "    validation_generator = validation_datagen.flow(\n",
    "        x_val_fold,\n",
    "        y = y_val_fold,\n",
    "        batch_size=64\n",
    "    )\n",
    "\n",
    "    last_output = last_layer.output\n",
    "    # Add a fully connected layer with 1,024 hidden units and ReLU activation\n",
    "    x = layers.Dense(hidden_units, activation='relu', kernel_regularizer=L2(regularization_str))(last_output)\n",
    "    # Add a dropout\n",
    "    x = layers.Dropout(dropout_rate)(x)\n",
    "    x = layers.Dense(num_classes, activation='softmax')(x)\n",
    "\n",
    "    model = Model(pre_trained_model.input, x)\n",
    "    #model.summary()\n",
    "    \n",
    "\n",
    "    # Print the shape of the current fold's training and validation data\n",
    "    print('Training data shape:', x_train_fold.shape, y_train_fold.shape)\n",
    "    print('Validation data shape:', x_val_fold.shape, y_val_fold.shape)\n",
    "    model.compile(optimizer=tf.keras.optimizers.Adam(learning_rate=0.0001),\n",
    "                  loss='categorical_crossentropy',\n",
    "                  metrics=['accuracy'])\n",
    "    # Generate a print\n",
    "    print('------------------------------------------------------------------------')\n",
    "    print(f'Training for fold {fold_no} ...')\n",
    "    \n",
    "    # Train the model on the current fold's data\n",
    "    early_stop = tf.keras.callbacks.EarlyStopping(monitor='val_accuracy', patience=10)\n",
    "    history = model.fit(train_generator,\n",
    "              validation_data=validation_generator,\n",
    "              epochs=50,\n",
    "              callbacks=[early_stop])  # Update the number of epochs as needed\n",
    "\n",
    "    # Generate generalization metrics\n",
    "    test_loss, test_accuracy = model.evaluate(x_test, y_test)\n",
    "    print(f'Score for fold {fold_no}: {model.metrics_names[0]} of {test_loss}; {model.metrics_names[1]} of {test_accuracy*100}%')\n",
    "    acc_per_fold.append(test_accuracy * 100)\n",
    "    loss_per_fold.append(test_loss)\n",
    "    test_last_fold=acc_per_fold[fold_no]\n",
    "    print(f'test acuraccy : {acc_per_fold[fold_no]} for fold {fold_no}')\n",
    "    \n",
    "    val_acc_per_fold.append(max(history.history['val_accuracy']))  # Add the maximum validation accuracy to the list\n",
    "    x_train_list.append(x_train_fold)\n",
    "    y_train_list.append(y_train_fold)\n",
    "    \n",
    "    x_val_list.append(x_val_fold)\n",
    "    y_val_list.append(y_val_fold)\n",
    "    \n",
    "    # Check if this model has the best accuracy so far\n",
    "    if test_accuracy > best_accuracy:\n",
    "        best_accuracy = test_accuracy\n",
    "        best_model = model\n",
    "        best_fold = fold_no\n",
    "    # Increase fold number\n",
    "    fold_no = fold_no + 1"
   ]
  },
  {
   "cell_type": "code",
   "execution_count": null,
   "id": "57247364",
   "metadata": {
    "execution": {
     "iopub.execute_input": "2023-12-13T19:18:38.741546Z",
     "iopub.status.busy": "2023-12-13T19:18:38.740970Z",
     "iopub.status.idle": "2023-12-13T19:18:38.748067Z",
     "shell.execute_reply": "2023-12-13T19:18:38.747377Z"
    },
    "papermill": {
     "duration": 0.501614,
     "end_time": "2023-12-13T19:18:38.750070",
     "exception": false,
     "start_time": "2023-12-13T19:18:38.248456",
     "status": "completed"
    },
    "tags": []
   },
   "outputs": [],
   "source": [
    "print(f'best_accuracy : {best_accuracy}\\nbest_model : {best_model}\\nbest_fold :{best_fold}')"
   ]
  },
  {
   "cell_type": "code",
   "execution_count": null,
   "id": "83339a75",
   "metadata": {
    "execution": {
     "iopub.execute_input": "2023-12-13T19:18:39.842600Z",
     "iopub.status.busy": "2023-12-13T19:18:39.841792Z",
     "iopub.status.idle": "2023-12-13T19:18:39.852137Z",
     "shell.execute_reply": "2023-12-13T19:18:39.850936Z"
    },
    "id": "w8MGqU88NPAp",
    "papermill": {
     "duration": 0.513977,
     "end_time": "2023-12-13T19:18:39.853870",
     "exception": false,
     "start_time": "2023-12-13T19:18:39.339893",
     "status": "completed"
    },
    "tags": []
   },
   "outputs": [],
   "source": [
    "# == Provide average scores ==\n",
    "print('------------------------------------------------------------------------')\n",
    "print('Score per fold')\n",
    "for i in range(0, len(acc_per_fold)):\n",
    "    print('------------------------------------------------------------------------')\n",
    "    print(f'> Fold {i+1} - Loss: {loss_per_fold[i]} - Accuracy: {acc_per_fold[i]}%')\n",
    "print('------------------------------------------------------------------------')\n",
    "print('Average scores for all folds:')\n",
    "print(f'> Accuracy: {np.mean(acc_per_fold)} (+- {np.std(acc_per_fold)})')\n",
    "print(f'> Loss: {np.mean(loss_per_fold)}')\n",
    "# Print the validation accuracy for each fold\n",
    "for i, val_acc in enumerate(val_acc_per_fold):\n",
    "    print(f'Validation accuracy for fold {i+1}: {val_acc * 100}%')\n",
    "print('------------------------------------------------------------------------')"
   ]
  },
  {
   "cell_type": "code",
   "execution_count": null,
   "id": "8791ae7d",
   "metadata": {
    "execution": {
     "iopub.execute_input": "2023-12-13T19:18:40.834974Z",
     "iopub.status.busy": "2023-12-13T19:18:40.834627Z",
     "iopub.status.idle": "2023-12-13T19:18:49.205836Z",
     "shell.execute_reply": "2023-12-13T19:18:49.204538Z"
    },
    "id": "wc119h2bS97R",
    "papermill": {
     "duration": 8.872832,
     "end_time": "2023-12-13T19:18:49.208282",
     "exception": false,
     "start_time": "2023-12-13T19:18:40.335450",
     "status": "completed"
    },
    "tags": []
   },
   "outputs": [],
   "source": [
    "import matplotlib.pyplot as plt\n",
    "import seaborn as sns\n",
    "from sklearn.metrics import confusion_matrix\n",
    "\n",
    "# Make predictions on the validation data using the best model\n",
    "y_pred = np.argmax(best_model.predict(x_test), axis=1)\n",
    "\n",
    "# Compute the confusion matrix\n",
    "cm = confusion_matrix(np.argmax(y_test, axis=1), y_pred)\n",
    "\n",
    "# Plot the confusion matrix\n",
    "plt.figure(figsize=(10, 8))\n",
    "sns.heatmap(cm, annot=True, fmt='d', cmap='Blues')\n",
    "plt.xlabel('Predicted labels')\n",
    "plt.ylabel('True labels')\n",
    "plt.title('Confusion Matrix')\n",
    "plt.show()\n"
   ]
  },
  {
   "cell_type": "code",
   "execution_count": null,
   "id": "8531f944",
   "metadata": {
    "execution": {
     "iopub.execute_input": "2023-12-13T19:18:50.262684Z",
     "iopub.status.busy": "2023-12-13T19:18:50.261921Z",
     "iopub.status.idle": "2023-12-13T19:18:51.085712Z",
     "shell.execute_reply": "2023-12-13T19:18:51.084303Z"
    },
    "papermill": {
     "duration": 1.309291,
     "end_time": "2023-12-13T19:18:51.088140",
     "exception": false,
     "start_time": "2023-12-13T19:18:49.778849",
     "status": "completed"
    },
    "tags": []
   },
   "outputs": [],
   "source": [
    "best_model.save('model_classifier.h5')\n",
    "best_model.save('my_model.keras')"
   ]
  }
 ],
 "metadata": {
  "accelerator": "GPU",
  "colab": {
   "provenance": []
  },
  "kaggle": {
   "accelerator": "none",
   "dataSources": [
    {
     "datasetId": 687571,
     "sourceId": 1224323,
     "sourceType": "datasetVersion"
    },
    {
     "datasetId": 1848488,
     "sourceId": 3018083,
     "sourceType": "datasetVersion"
    },
    {
     "datasetId": 2220564,
     "sourceId": 3712538,
     "sourceType": "datasetVersion"
    },
    {
     "datasetId": 2400585,
     "sourceId": 4053613,
     "sourceType": "datasetVersion"
    },
    {
     "datasetId": 2516107,
     "sourceId": 4270258,
     "sourceType": "datasetVersion"
    }
   ],
   "dockerImageVersionId": 30587,
   "isGpuEnabled": false,
   "isInternetEnabled": true,
   "language": "python",
   "sourceType": "notebook"
  },
  "kernelspec": {
   "display_name": "Python 3 (ipykernel)",
   "language": "python",
   "name": "python3"
  },
  "language_info": {
   "codemirror_mode": {
    "name": "ipython",
    "version": 3
   },
   "file_extension": ".py",
   "mimetype": "text/x-python",
   "name": "python",
   "nbconvert_exporter": "python",
   "pygments_lexer": "ipython3",
   "version": "3.11.5"
  },
  "papermill": {
   "default_parameters": {},
   "duration": 9272.449576,
   "end_time": "2023-12-13T19:18:54.515397",
   "environment_variables": {},
   "exception": null,
   "input_path": "__notebook__.ipynb",
   "output_path": "__notebook__.ipynb",
   "parameters": {},
   "start_time": "2023-12-13T16:44:22.065821",
   "version": "2.4.0"
  }
 },
 "nbformat": 4,
 "nbformat_minor": 5
}
